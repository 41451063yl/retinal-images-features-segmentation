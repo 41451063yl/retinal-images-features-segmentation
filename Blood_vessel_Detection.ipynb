{
 "cells": [
  {
   "cell_type": "code",
   "execution_count": 3,
   "metadata": {},
   "outputs": [
    {
     "name": "stdout",
     "output_type": "stream",
     "text": [
      "result:\n"
     ]
    },
    {
     "data": {
      "image/png": "[encoded data removed]",
      "text/plain": [
       "<matplotlib.figure.Figure at 0x127f38400>"
      ]
     },
     "metadata": {},
     "output_type": "display_data"
    },
    {
     "name": "stdout",
     "output_type": "stream",
     "text": [
      "blood_vessel_segmentation_masks:\n"
     ]
    },
    {
     "data": {
      "image/png": "[encoded data removed]",
      "text/plain": [
       "<matplotlib.figure.Figure at 0x12c54dba8>"
      ]
     },
     "metadata": {},
     "output_type": "display_data"
    },
    {
     "name": "stdout",
     "output_type": "stream",
     "text": [
      "------------------------\n",
      "JSC = 0.636545998827269\n"
     ]
    }
   ],
   "source": [
    "import cv2\n",
    "import numpy as np\n",
    "import matplotlib.pyplot as plt\n",
    "from PIL import Image\n",
    "import os\n",
    "\n",
    "# get image path\n",
    "image_path = \"../Data_Group_Component_Task_2/Test/original_retinal_images/\"\n",
    "mask_path = \"../Data_Group_Component_Task_2/Test/blood_vessel_segmentation_masks/\"\n",
    "\n",
    "images = os.listdir(image_path)\n",
    "masks = os.listdir(mask_path)\n",
    "images.sort()\n",
    "masks.sort()\n",
    "img_number = 0\n",
    "img_name = image_path + images[img_number]\n",
    "mask_name=mask_path + masks[img_number]\n",
    "\n",
    "img=cv2.imread(img_name)\n",
    "gray1=cv2.cvtColor(img, cv2.COLOR_BGR2GRAY)\n",
    "ret, canny1 = cv2.threshold (gray1, 20, 255 , cv2.THRESH_BINARY)\n",
    "# plt.imshow(canny1,'gray')\n",
    "# plt.show()\n",
    "\n",
    "green=img[:,:,1]\n",
    "dst=255-green\n",
    "clahe = cv2.createCLAHE(clipLimit=0.18,tileGridSize=(1,1))\n",
    "img2=clahe.apply(dst)\n",
    "\n",
    "kernel=cv2.getStructuringElement(cv2.MORPH_ELLIPSE,(15,15))\n",
    "opening = cv2.morphologyEx(dst, cv2.MORPH_OPEN, kernel)\n",
    "\n",
    "final=cv2.subtract(img2,opening)\n",
    "ret, binary = cv2.threshold (final ,11, 180, cv2.THRESH_BINARY)\n",
    "print('result:')\n",
    "binary=cv2.medianBlur(binary, 3)\n",
    "plt.imshow(binary,'gray')\n",
    "plt.show()\n",
    "\n",
    "mask=Image.open(mask_name)\n",
    "mask=mask.convert('RGB')\n",
    "print('blood_vessel_segmentation_masks:')\n",
    "plt.imshow(mask,'gray')\n",
    "plt.show()\n",
    "\n",
    "mask=mask.convert('L')\n",
    "binary = np.array(binary)\n",
    "mask = np.array(mask)\n",
    "    \n",
    "def evaluation(image, mask):\n",
    "    \n",
    "    zeros_list_img, one_list_img, zeros_list_mk, one_list_mk = [], [], [], []\n",
    "    \n",
    "    for i in range(0,image.shape[0]):\n",
    "        for j in range(0,image.shape[1]):\n",
    "            val_mk = mask[i][j]\n",
    "            val_img  = image[i][j]\n",
    "            if val_mk == 0:\n",
    "                zeros_list_mk.append((i,j))\n",
    "            else:\n",
    "                one_list_mk.append((i,j))\n",
    "            if val_img == 0:\n",
    "                zeros_list_img.append((i,j))\n",
    "            else:\n",
    "                one_list_img.append((i,j))\n",
    "    #print(len(one_list_img))\n",
    "    TP = len(set(one_list_img).intersection(set(one_list_mk)))\n",
    "    TN = len(set(zeros_list_img).intersection(set(zeros_list_mk)))\n",
    "    FP = len(set(one_list_img).intersection(set(zeros_list_mk)))\n",
    "    FN = len(set(zeros_list_img).intersection(set(one_list_mk)))\n",
    "    TPR = TP/(FN + TP)\n",
    "    TNR = TN/(TN + FP)\n",
    "    P = TP/(TP + FP)\n",
    "    R = TP/(TP + FN)\n",
    "    F = 2*(R*P/(R + P))\n",
    "    JSC = TP/(TP + FP + FN)\n",
    "    DSC = 2*(TP/(FP + 2*TP + FN))\n",
    "    return TPR, TNR, F, JSC, DSC\n",
    "\n",
    "print('------------------------')\n",
    "TPR, TNR, F, JSC, DSC = evaluation(binary,mask)\n",
    "print('JSC = ', end = '')\n",
    "print(JSC)"
   ]
  },
  {
   "cell_type": "code",
   "execution_count": null,
   "metadata": {},
   "outputs": [],
   "source": []
  }
 ],
 "metadata": {
  "kernelspec": {
   "display_name": "Python 3",
   "language": "python",
   "name": "python3"
  },
  "language_info": {
   "codemirror_mode": {
    "name": "ipython",
    "version": 3
   },
   "file_extension": ".py",
   "mimetype": "text/x-python",
   "name": "python",
   "nbconvert_exporter": "python",
   "pygments_lexer": "ipython3",
   "version": "3.6.4"
  }
 },
 "nbformat": 4,
 "nbformat_minor": 2
}
