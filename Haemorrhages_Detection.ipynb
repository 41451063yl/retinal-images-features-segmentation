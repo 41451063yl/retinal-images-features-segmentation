{
 "cells": [
  {
   "cell_type": "code",
   "execution_count": 1,
   "metadata": {},
   "outputs": [],
   "source": [
    "import numpy as np\n",
    "import cv2\n",
    "import os\n",
    "import matplotlib.pyplot as plt\n",
    "from PIL import Image"
   ]
  },
  {
   "cell_type": "code",
   "execution_count": 2,
   "metadata": {},
   "outputs": [],
   "source": [
    "image_path = \"../Data_Group_Component_Task_1/Test/original_retinal_images/\"\n",
    "HE_mask_path = \"../Data_Group_Component_Task_1/Test/masks_Haemorrhages/\"\n",
    "images = os.listdir(image_path)\n",
    "HE_masks = os.listdir(HE_mask_path)\n",
    "images.sort()\n",
    "HE_masks.sort()\n",
    "img_number = 6"
   ]
  },
  {
   "cell_type": "code",
   "execution_count": 3,
   "metadata": {},
   "outputs": [],
   "source": [
    "def resize(img):\n",
    "    ratio  = min([1152/img.shape[0], 1500/img.shape[1]])\n",
    "    return cv2.resize(img,(int(img.shape[1]*ratio),int(img.shape[0]*ratio)), interpolation = cv2.INTER_CUBIC)\n",
    "\n",
    "def rgb2Gray(img):\n",
    "    return cv2.cvtColor(img,cv2.COLOR_BGR2GRAY)\n",
    "\n",
    "def clahe_equalized(img):\n",
    "    clahe = cv2.createCLAHE(clipLimit=2.0, tileGridSize=(8, 8))\n",
    "    cl1 = clahe.apply(img)\n",
    "    return  cl1\n",
    "\n",
    "def OTSU(img_gray):\n",
    "    max_g = 0\n",
    "    suitable_th = 0\n",
    "    th_begin = 0\n",
    "    th_end = 256\n",
    "    for threshold in range(th_begin, th_end):\n",
    "        bin_img = img_gray > threshold\n",
    "        bin_img_inv = img_gray <= threshold\n",
    "        fore_pix = np.sum(bin_img)\n",
    "        back_pix = np.sum(bin_img_inv)\n",
    "        if 0 == fore_pix:\n",
    "            break\n",
    "        if 0 == back_pix:\n",
    "            continue\n",
    " \n",
    "        w0 = float(fore_pix) / img_gray.size\n",
    "        u0 = float(np.sum(img_gray * bin_img)) / fore_pix\n",
    "        w1 = float(back_pix) / img_gray.size\n",
    "        u1 = float(np.sum(img_gray * bin_img_inv)) / back_pix\n",
    "        # intra-class variance\n",
    "        g = w0 * w1 * (u0 - u1) * (u0 - u1)\n",
    "        if g > max_g:\n",
    "            max_g = g\n",
    "            suitable_th = threshold\n",
    " \n",
    "    return suitable_th\n",
    "\n",
    "\n",
    "def vessel(img):\n",
    "    dst = 255 - img\n",
    "    clahe = cv2.createCLAHE(clipLimit=0.18,tileGridSize=(1,1))\n",
    "    Ien = clahe.apply(dst)  \n",
    "    kernel=cv2.getStructuringElement(cv2.MORPH_ELLIPSE,(15,15))\n",
    "    opening = cv2.morphologyEx(dst, cv2.MORPH_OPEN, kernel)\n",
    "    final = cv2.subtract(Ien,opening)\n",
    "    test =  OTSU(final)\n",
    "    ret , binary = cv2.threshold (final ,test, test, cv2.THRESH_BINARY) \n",
    "    binary = cv2.medianBlur(binary, 3) \n",
    "    #binary = cv2.blur(binary,(5,5))\n",
    "    return binary\n",
    "    "
   ]
  },
  {
   "cell_type": "code",
   "execution_count": 4,
   "metadata": {
    "scrolled": true
   },
   "outputs": [],
   "source": [
    "image = image_path + images[img_number]\n",
    "img = cv2.imread(image)\n",
    "img = resize(img)\n",
    "gray  = rgb2Gray(img)\n",
    "T, B_Fov = cv2.threshold(gray, 10, 255, cv2.THRESH_BINARY)\n",
    "b,g,r = cv2.split(img)\n",
    "Ienhance = clahe_equalized(g)\n",
    "\n",
    "Imedfilter = cv2.medianBlur(Ienhance,81)\n",
    "Isub = cv2.subtract(Imedfilter,Ienhance)\n",
    "Isub_filter = cv2.blur(Isub,(5,5))\n",
    "Isub_filter = cv2.bitwise_and(Isub,B_Fov)\n",
    "bestTh = OTSU(Isub_filter)\n",
    "T,Idark_tep = cv2.threshold(Isub_filter, bestTh, 255, cv2.THRESH_BINARY)\n",
    "sOP = cv2.getStructuringElement(cv2.MORPH_ELLIPSE,(2,2))\n",
    "Bdark = cv2.morphologyEx(Idark_tep,cv2.MORPH_OPEN,sOP)\n",
    "\n",
    "Imed = cv2.medianBlur(Ienhance,131)\n",
    "Isub1 = cv2.subtract(Imed,Ienhance)\n",
    "Isub_filter1 = cv2.blur(Isub1,(5,5))\n",
    "bestTh1 =  OTSU(Isub_filter1)\n",
    "T,Idark_tep1 = cv2.threshold(Isub_filter1, bestTh1, 255, cv2.THRESH_BINARY)\n",
    "Bdark1 = cv2.morphologyEx(Idark_tep1,cv2.MORPH_OPEN,sOP)\n",
    "\n",
    "Bduel = cv2.bitwise_or(Bdark,Bdark1)\n",
    "\n",
    "Ismooth = cv2.GaussianBlur(Ienhance,(7,7),0)\n",
    "Ivessel = vessel(Ismooth)\n",
    "kernel = np.ones((5, 5), np.uint8)\n",
    "Ivessel = cv2.dilate(Ivessel, kernel)\n",
    "\n",
    "Bduel = cv2.erode(Bduel,kernel)\n",
    "same = cv2.bitwise_and(Ivessel,Bduel)\n",
    "result = cv2.subtract(Bduel,same)\n",
    "sOP6 = cv2.getStructuringElement(cv2.MORPH_ELLIPSE,(6,6))\n",
    "result = cv2.morphologyEx(result,cv2.MORPH_OPEN,sOP6)\n",
    "result = cv2.erode(result,kernel)\n",
    "\n",
    "sOP10 = cv2.getStructuringElement(cv2.MORPH_ELLIPSE,(10,10))\n",
    "result1 = cv2.morphologyEx(result,cv2.MORPH_OPEN,sOP10)\n",
    "\n",
    "result = cv2.bitwise_or(result,result1)\n",
    "result =  cv2.dilate(result, kernel)\n",
    "\n",
    "# plt.imshow(result ,\"gray\")\n",
    "# plt.show()"
   ]
  },
  {
   "cell_type": "code",
   "execution_count": 5,
   "metadata": {},
   "outputs": [],
   "source": [
    "def evaluation(image, mask):\n",
    "    \n",
    "    zeros_list_img, one_list_img, zeros_list_mk, one_list_mk = [], [], [], []\n",
    "    \n",
    "    for i in range(0,image.shape[0]):\n",
    "        for j in range(0,image.shape[1]):\n",
    "            val_mk = mask[i][j]\n",
    "            val_img  = image[i][j]\n",
    "            if val_mk == 0:\n",
    "                zeros_list_mk.append((i,j))\n",
    "            else:\n",
    "                one_list_mk.append((i,j))\n",
    "            if val_img == 0:\n",
    "                zeros_list_img.append((i,j))\n",
    "            else:\n",
    "                one_list_img.append((i,j))\n",
    "    #print(len(one_list_img))\n",
    "    TP = len(set(one_list_img).intersection(set(one_list_mk)))\n",
    "    TN = len(set(zeros_list_img).intersection(set(zeros_list_mk)))\n",
    "    FP = len(set(one_list_img).intersection(set(zeros_list_mk)))\n",
    "    FN = len(set(zeros_list_img).intersection(set(one_list_mk)))\n",
    "    TPR = TP/(FN + TP)\n",
    "    TNR = TN/(TN + FP)\n",
    "    P = TP/(TP + FP)\n",
    "    R = TP/(TP + FN)\n",
    "    F = 2*(R*P/(R + P))\n",
    "    JSC = TP/(TP + FP + FN)\n",
    "    DSC = 2*(TP/(FP + 2*TP + FN))\n",
    "    return TPR, TNR, F, JSC, DSC"
   ]
  },
  {
   "cell_type": "code",
   "execution_count": 6,
   "metadata": {},
   "outputs": [
    {
     "name": "stdout",
     "output_type": "stream",
     "text": [
      "result:\n"
     ]
    },
    {
     "data": {
      "image/png": "[encoded data removed]",
      "text/plain": [
       "<matplotlib.figure.Figure at 0x10c3cf0f0>"
      ]
     },
     "metadata": {},
     "output_type": "display_data"
    },
    {
     "name": "stdout",
     "output_type": "stream",
     "text": [
      "masks_Haemorrhages:\n"
     ]
    },
    {
     "data": {
      "image/png": "[encoded data removed]",
      "text/plain": [
       "<matplotlib.figure.Figure at 0x10444e358>"
      ]
     },
     "metadata": {},
     "output_type": "display_data"
    },
    {
     "name": "stdout",
     "output_type": "stream",
     "text": [
      "------------------------\n",
      "JSC = 0.2647096305900475\n"
     ]
    }
   ],
   "source": [
    "mask = HE_mask_path + HE_masks[6]\n",
    "mk = cv2.imread(mask)\n",
    "mk = resize(mk)\n",
    "mk = rgb2Gray(mk)\n",
    "\n",
    "print('result:')\n",
    "plt.imshow(result ,\"gray\")\n",
    "plt.show()\n",
    "\n",
    "T, mk = cv2.threshold(mk, 0, 255, cv2.THRESH_BINARY)\n",
    "print('masks_Haemorrhages:')\n",
    "plt.imshow(mk,\"gray\")\n",
    "plt.show()\n",
    "\n",
    "print('------------------------')\n",
    "TPR, TNR, F, JSC, DSC = evaluation(result, mk)\n",
    "print('JSC = ', end = '')\n",
    "print(JSC)"
   ]
  },
  {
   "cell_type": "code",
   "execution_count": null,
   "metadata": {},
   "outputs": [],
   "source": []
  },
  {
   "cell_type": "code",
   "execution_count": null,
   "metadata": {},
   "outputs": [],
   "source": []
  }
 ],
 "metadata": {
  "kernelspec": {
   "display_name": "Python 3",
   "language": "python",
   "name": "python3"
  },
  "language_info": {
   "codemirror_mode": {
    "name": "ipython",
    "version": 3
   },
   "file_extension": ".py",
   "mimetype": "text/x-python",
   "name": "python",
   "nbconvert_exporter": "python",
   "pygments_lexer": "ipython3",
   "version": "3.6.4"
  }
 },
 "nbformat": 4,
 "nbformat_minor": 2
}
