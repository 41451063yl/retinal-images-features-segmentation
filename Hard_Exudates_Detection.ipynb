{
 "cells": [
  {
   "cell_type": "code",
   "execution_count": 1,
   "metadata": {},
   "outputs": [],
   "source": [
    "import numpy as np\n",
    "import scipy as sp \n",
    "import scipy.ndimage as ndimage\n",
    "import math\n",
    "from skimage import exposure,filters\n",
    "import cv2\n",
    "import matplotlib.pyplot as plt\n",
    "from skimage.filters import gaussian\n",
    "from skimage import morphology\n",
    "import argparse\n",
    "import os"
   ]
  },
  {
   "cell_type": "code",
   "execution_count": 2,
   "metadata": {},
   "outputs": [],
   "source": [
    "image_path = \"../Data_Group_Component_Task_1/Test/original_retinal_images/\"\n",
    "HE_mask_path = \"../Data_Group_Component_Task_1//Test/masks_Hard_Exudates/\"\n",
    "images = os.listdir(image_path)\n",
    "HE_masks = os.listdir(HE_mask_path)\n",
    "images.sort()\n",
    "HE_masks.sort()"
   ]
  },
  {
   "cell_type": "code",
   "execution_count": 3,
   "metadata": {},
   "outputs": [],
   "source": [
    "def resize(img):\n",
    "    ratio  = min([1152/img.shape[0], 1500/img.shape[1]])\n",
    "    return cv2.resize(img,(int(img.shape[1]*ratio),int(img.shape[0]*ratio)), interpolation = cv2.INTER_CUBIC)\n",
    "\n",
    "\n",
    "def rgb2Gray(img):\n",
    "    return cv2.cvtColor(img,cv2.COLOR_BGR2GRAY)\n",
    "\n",
    "def clahe_equalized(img):\n",
    "    clahe = cv2.createCLAHE(clipLimit=2.0, tileGridSize=(8, 8))\n",
    "    cl1 = clahe.apply(img)\n",
    "    return  cl1\n",
    "\n",
    "def adjust_gamma(img, gamma=1.0):\n",
    "    invGamma = 1.0 / gamma\n",
    "    table = np.array([((i / 255.0) ** invGamma) * 255 for i in np.arange(0, 256)]).astype(\"uint8\")\n",
    "    # apply gamma correction using the lookup table\n",
    "    new_imgs = cv2.LUT(img, table)\n",
    "    return new_imgs\n",
    "\n",
    "def nearest_neighbor_resize(img, new_w, new_h):\n",
    "    # height and width of the input img\n",
    "    h, w = img.shape[0], img.shape[1]\n",
    "    # new image with rgb channel\n",
    "    ret_img = np.zeros(shape=(new_h, new_w), dtype='uint8')\n",
    "    # scale factor\n",
    "    s_h, s_c = (h * 1.0) / new_h, (w * 1.0) / new_w\n",
    "\n",
    "    # insert pixel to the new img\n",
    "    for i in range(new_h):\n",
    "        for j in range(new_w):\n",
    "            p_x = int(i * s_c)\n",
    "            p_y = int(j * s_h)\n",
    "\n",
    "            ret_img[i, j] = img[p_x, p_y]\n",
    "\n",
    "    return ret_img\n",
    "\n",
    "def evaluation(image, mask):\n",
    "    \n",
    "    zeros_list_img, one_list_img, zeros_list_mk, one_list_mk = [], [], [], []\n",
    "    \n",
    "    for i in range(0,image.shape[0]):\n",
    "        for j in range(0,image.shape[1]):\n",
    "            val_mk = mask[i][j]\n",
    "            val_img  = image[i][j]\n",
    "            if val_mk == 0:\n",
    "                zeros_list_mk.append((i,j))\n",
    "            else:\n",
    "                one_list_mk.append((i,j))\n",
    "            if val_img == 0:\n",
    "                zeros_list_img.append((i,j))\n",
    "            else:\n",
    "                one_list_img.append((i,j))\n",
    "    #print(len(one_list_img))\n",
    "    TP = len(set(one_list_img).intersection(set(one_list_mk)))\n",
    "    TN = len(set(zeros_list_img).intersection(set(zeros_list_mk)))\n",
    "    FP = len(set(one_list_img).intersection(set(zeros_list_mk)))\n",
    "    FN = len(set(zeros_list_img).intersection(set(one_list_mk)))\n",
    "    TPR = TP/(FN + TP)\n",
    "    TNR = TN/(TN + FP)\n",
    "    P = TP/(TP + FP)\n",
    "    R = TP/(TP + FN)\n",
    "    F = 2*(R*P/(R + P))\n",
    "    JSC = TP/(TP + FP + FN)\n",
    "    DSC = 2*(TP/(FP + 2*TP + FN))\n",
    "    return TPR, TNR, F, JSC, DSC"
   ]
  },
  {
   "cell_type": "code",
   "execution_count": 4,
   "metadata": {
    "scrolled": false
   },
   "outputs": [
    {
     "name": "stdout",
     "output_type": "stream",
     "text": [
      "result:\n"
     ]
    },
    {
     "data": {
      "image/png": "[encoded data removed]",
      "text/plain": [
       "<matplotlib.figure.Figure at 0x12a224da0>"
      ]
     },
     "metadata": {},
     "output_type": "display_data"
    },
    {
     "name": "stdout",
     "output_type": "stream",
     "text": [
      "masks_Hard_Exudates:\n"
     ]
    },
    {
     "data": {
      "image/png": "[encoded data removed]",
      "text/plain": [
       "<matplotlib.figure.Figure at 0x13264b080>"
      ]
     },
     "metadata": {},
     "output_type": "display_data"
    },
    {
     "name": "stdout",
     "output_type": "stream",
     "text": [
      "------------------------\n",
      "JSC = 0.23970603801545418\n"
     ]
    }
   ],
   "source": [
    "img_number = 0\n",
    "image = image_path + images[img_number]\n",
    "mask = HE_mask_path + HE_masks[img_number]\n",
    "img = cv2.imread(image)\n",
    "img = resize(img)\n",
    "b,g,r = cv2.split(img)\n",
    "\n",
    "Iw = cv2.addWeighted(r, 0.75, g, 0.25, 0)\n",
    "Imed = cv2.medianBlur(Iw,3)\n",
    "Ienhance = clahe_equalized(Imed)\n",
    "minVal, maxVal, minLoc, maxLoc = cv2.minMaxLoc(Ienhance)\n",
    "#print(maxLoc,maxVal)\n",
    "Pos_row = maxLoc[0]\n",
    "Pos_col = maxLoc[1]\n",
    "circle = np.zeros(Ienhance.shape[0:2], dtype=\"uint8\")\n",
    "disc = cv2.circle(circle, (Pos_row, Pos_col), 135, 1, -1) \n",
    "\n",
    "Il = cv2.cvtColor(img, cv2.COLOR_BGR2LAB)\n",
    "L,a,b = cv2.split(Il)\n",
    "T, B_Fov = cv2.threshold(L, 3, 255, cv2.THRESH_BINARY)\n",
    "s_FOV = cv2.getStructuringElement(cv2.MORPH_ELLIPSE,(15,15))\n",
    "B_erode = cv2.erode(B_Fov,s_FOV,iterations = 2)\n",
    "B_compact = ndimage.binary_fill_holes(B_erode)\n",
    "B_compact = np.array(B_compact,np.uint8)\n",
    "\n",
    "Ig = g\n",
    "med = cv2.medianBlur(Ig,3)\n",
    "I_G_enhance = clahe_equalized(med)\n",
    "s_BH = cv2.getStructuringElement(cv2.MORPH_ELLIPSE,(30,30))\n",
    "I_bh = cv2.morphologyEx(I_G_enhance,cv2.MORPH_BLACKHAT, s_BH)\n",
    "s_TH = cv2.getStructuringElement(cv2.MORPH_ELLIPSE,(11,11))\n",
    "I_th = cv2.morphologyEx(I_G_enhance,cv2.MORPH_TOPHAT, s_TH)\n",
    "I_exudate = cv2.subtract(I_th,I_bh)\n",
    "T, B_exudate = cv2.threshold(I_exudate, 35, 255, cv2.THRESH_BINARY)\n",
    "\n",
    "Ig_half = cv2.resize(Ig,(int(img.shape[1]/2),int(img.shape[0]/2)),interpolation = cv2.INTER_CUBIC)\n",
    "med_half = cv2.medianBlur(Ig_half,3)\n",
    "I_G_enhance_half = clahe_equalized(med_half)\n",
    "I_bh_half = cv2.morphologyEx(I_G_enhance_half,cv2.MORPH_BLACKHAT, s_BH)\n",
    "I_th_half = cv2.morphologyEx(I_G_enhance_half,cv2.MORPH_TOPHAT, s_TH)\n",
    "I_exudate_half = cv2.subtract(I_th_half,I_bh_half)\n",
    "T, B_exudate_half = cv2.threshold(I_exudate_half, 35, 255, cv2.THRESH_BINARY)\n",
    "B_exudate_half = nearest_neighbor_resize(B_exudate_half,B_exudate.shape[1],B_exudate.shape[0])\n",
    "B_dual = cv2.bitwise_or(B_exudate,B_exudate_half)\n",
    "\n",
    "B_dual = cv2.bitwise_and(B_dual,B_compact)\n",
    "#B_dual = cv2.subtract(B_dual,disc)\n",
    "print('result:')\n",
    "plt.imshow(B_dual,\"gray\")\n",
    "plt.show()\n",
    "\n",
    "mask = cv2.imread(mask)\n",
    "mask = cv2.cvtColor(mask, cv2.COLOR_BGR2GRAY)\n",
    "mask = resize(mask)\n",
    "print('masks_Hard_Exudates:')\n",
    "plt.imshow(mask,\"gray\")\n",
    "plt.show()\n",
    "\n",
    "print('------------------------')\n",
    "TPR, TNR, F, JSC, DSC = evaluation(B_dual, mask)\n",
    "print('JSC = ', end = '')\n",
    "print(JSC)"
   ]
  },
  {
   "cell_type": "code",
   "execution_count": null,
   "metadata": {},
   "outputs": [],
   "source": []
  },
  {
   "cell_type": "code",
   "execution_count": null,
   "metadata": {},
   "outputs": [],
   "source": []
  }
 ],
 "metadata": {
  "kernelspec": {
   "display_name": "Python 3",
   "language": "python",
   "name": "python3"
  },
  "language_info": {
   "codemirror_mode": {
    "name": "ipython",
    "version": 3
   },
   "file_extension": ".py",
   "mimetype": "text/x-python",
   "name": "python",
   "nbconvert_exporter": "python",
   "pygments_lexer": "ipython3",
   "version": "3.6.4"
  }
 },
 "nbformat": 4,
 "nbformat_minor": 2
}
