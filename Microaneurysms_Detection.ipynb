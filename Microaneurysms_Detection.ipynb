{
 "cells": [
  {
   "cell_type": "code",
   "execution_count": 2,
   "metadata": {},
   "outputs": [],
   "source": [
    "import cv2\n",
    "import numpy as np\n",
    "import matplotlib.pyplot as plt\n",
    "import os\n",
    "\n",
    "# get image path\n",
    "image_path = \"../Data_Group_Component_Task_1/Test/original_retinal_images/\"\n",
    "ma_path = \"../Data_Group_Component_Task_1/Test/masks_Microaneurysms/\"\n",
    "\n",
    "images = os.listdir(image_path)\n",
    "ma = os.listdir(ma_path)\n",
    "images.sort()\n",
    "ma.sort()\n",
    "img_number = 0\n",
    "img_name = image_path + images[img_number]\n",
    "ma_name = ma_path + ma[img_number]\n",
    "\n",
    "# read the image\n",
    "img = cv2.imread(img_name)\n",
    "\n",
    "# set to gray\n",
    "img_gray = cv2.cvtColor(img, cv2.COLOR_BGR2GRAY)\n",
    "\n",
    "# resize to 576*720\n",
    "img_resize = cv2.resize(img_gray, (576,720), interpolation=cv2.INTER_CUBIC)\n",
    "\n",
    "# applying adaptive histogram equalization\n",
    "clahe = cv2.createCLAHE(clipLimit=2.0,tileGridSize=(8,8))\n",
    "img_clahe = clahe.apply(img_resize)\n",
    "\n",
    "# edge detection (Canny method)\n",
    "img_canny = cv2.Canny(img_clahe, 40, 150)\n",
    "\n",
    "# GaussianBlur\n",
    "img_gb = cv2.GaussianBlur(img_canny,(3,3),0)\n",
    "\n",
    "# disc-shaped structuring element (SE) of radius 6\n",
    "kernel = cv2.getStructuringElement(cv2.MORPH_ELLIPSE,(6,6))\n",
    "# morphological opening operation (erosion then dilation)\n",
    "img_opening = cv2.morphologyEx(img_gb, cv2.MORPH_OPEN, kernel)\n",
    "\n",
    "# subtracted from the image of microaneurysms and artifacts\n",
    "img_final = cv2.subtract(img_opening, img_clahe)\n",
    "\n",
    "# resize to original size\n",
    "img_final_final = cv2.resize(img_final, (4288,2848), interpolation=cv2.INTER_CUBIC)\n",
    "\n",
    "# read the answer\n",
    "img_ma_answer = cv2.imread(ma_name)\n",
    "# set to gray\n",
    "img_magray = cv2.cvtColor(img_ma_answer, cv2.COLOR_BGR2GRAY)\n",
    "img_magray = cv2.resize(img_magray, (576,720), interpolation=cv2.INTER_CUBIC)\n",
    "img_magray_magray = cv2.resize(img_magray, (4288,2848), interpolation=cv2.INTER_CUBIC)\n",
    "\n",
    "\n",
    "def evaluation(image, mask):\n",
    "    \n",
    "    zeros_list_img, one_list_img, zeros_list_mk, one_list_mk = [], [], [], []\n",
    "    \n",
    "    for i in range(0,image.shape[0]):\n",
    "        for j in range(0,image.shape[1]):\n",
    "            val_mk = mask[i][j]\n",
    "            val_img  = image[i][j]\n",
    "            if val_mk == 0:\n",
    "                zeros_list_mk.append((i,j))\n",
    "            else:\n",
    "                one_list_mk.append((i,j))\n",
    "            if val_img == 0:\n",
    "                zeros_list_img.append((i,j))\n",
    "            else:\n",
    "                one_list_img.append((i,j))\n",
    "    #print(len(one_list_img))\n",
    "    TP = len(set(one_list_img).intersection(set(one_list_mk)))\n",
    "    TN = len(set(zeros_list_img).intersection(set(zeros_list_mk)))\n",
    "    FP = len(set(one_list_img).intersection(set(zeros_list_mk)))\n",
    "    FN = len(set(zeros_list_img).intersection(set(one_list_mk)))\n",
    "    TPR = TP/(FN + TP)\n",
    "    TNR = TN/(TN + FP)\n",
    "    P = TP/(TP + FP)\n",
    "    R = TP/(TP + FN)\n",
    "    F = 2*(R*P/(R + P))\n",
    "    JSC = TP/(TP + FP + FN)\n",
    "    DSC = 2*(TP/(FP + 2*TP + FN))\n",
    "    return TPR, TNR, F, JSC, DSC"
   ]
  },
  {
   "cell_type": "code",
   "execution_count": 3,
   "metadata": {},
   "outputs": [
    {
     "name": "stdout",
     "output_type": "stream",
     "text": [
      "result:\n"
     ]
    },
    {
     "data": {
      "image/png": "[encoded data removed]",
      "text/plain": [
       "<matplotlib.figure.Figure at 0x1237ac208>"
      ]
     },
     "metadata": {},
     "output_type": "display_data"
    },
    {
     "name": "stdout",
     "output_type": "stream",
     "text": [
      "masks_Microaneurysms:\n"
     ]
    },
    {
     "data": {
      "image/png": "[encoded data removed]",
      "text/plain": [
       "<matplotlib.figure.Figure at 0x12ad81e48>"
      ]
     },
     "metadata": {},
     "output_type": "display_data"
    },
    {
     "name": "stdout",
     "output_type": "stream",
     "text": [
      "------------------------\n",
      "JSC = 0.010615177252823082\n"
     ]
    }
   ],
   "source": [
    "print('result:')\n",
    "plt.imshow(img_final_final,'gray')\n",
    "plt.show()\n",
    "\n",
    "print('masks_Microaneurysms:')\n",
    "plt.imshow(img_magray_magray,'gray')\n",
    "plt.show()\n",
    "\n",
    "print('------------------------')\n",
    "TPR, TNR, F, JSC, DSC = evaluation(img_final_final, img_magray_magray)\n",
    "print('JSC = ', end = '')\n",
    "print(JSC)"
   ]
  },
  {
   "cell_type": "code",
   "execution_count": null,
   "metadata": {},
   "outputs": [],
   "source": []
  }
 ],
 "metadata": {
  "kernelspec": {
   "display_name": "Python 3",
   "language": "python",
   "name": "python3"
  },
  "language_info": {
   "codemirror_mode": {
    "name": "ipython",
    "version": 3
   },
   "file_extension": ".py",
   "mimetype": "text/x-python",
   "name": "python",
   "nbconvert_exporter": "python",
   "pygments_lexer": "ipython3",
   "version": "3.6.4"
  }
 },
 "nbformat": 4,
 "nbformat_minor": 2
}
