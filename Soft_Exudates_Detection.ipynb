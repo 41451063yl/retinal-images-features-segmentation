{
 "cells": [
  {
   "cell_type": "code",
   "execution_count": 1,
   "metadata": {},
   "outputs": [],
   "source": [
    "import cv2\n",
    "import numpy as np\n",
    "import matplotlib.pyplot as plt\n",
    "import os\n",
    "\n",
    "# get image path\n",
    "image_path = \"../Data_Group_Component_Task_1/Train/original_retinal_images/\"\n",
    "se_path = \"../Data_Group_Component_Task_1/Train/masks_Soft_Exudates/\"\n",
    "\n",
    "images = os.listdir(image_path)\n",
    "images.sort()\n",
    "img_number = 30\n",
    "img_name = image_path + images[img_number]\n",
    "se_name = se_path + 'IDRiD_'+ str(img_number+1) +'_SE.tif'\n",
    "\n",
    "# read the image\n",
    "img = cv2.imread(img_name)\n",
    "# color image\n",
    "img1 = cv2.cvtColor(img, cv2.IMREAD_COLOR)\n",
    "# gray image\n",
    "imgb = cv2.cvtColor(img, cv2.COLOR_BGR2GRAY)"
   ]
  },
  {
   "cell_type": "code",
   "execution_count": 17,
   "metadata": {},
   "outputs": [],
   "source": [
    "# get background mask\n",
    "(_, mask_thresh) = cv2.threshold(imgb, 50, 255, cv2.THRESH_BINARY)\n",
    "\n",
    "# blur\n",
    "img2 = cv2.blur(img1, (50,70))\n",
    "# 25&4 35*4\n",
    "\n",
    "# contrast stretching\n",
    "img2_copy = img2.copy()\n",
    "b,g,r=cv2.split(img2_copy)\n",
    "a = 1.7\n",
    "img3 = float(a) * g\n",
    "# cut off pixel > 255\n",
    "img3[img3 > 255] = 255\n",
    "# change data type\n",
    "img3 = np.round(img3)\n",
    "img3 = img3.astype(np.uint8)\n",
    "\n",
    "# negative image\n",
    "img4 = 255-img3"
   ]
  },
  {
   "cell_type": "code",
   "execution_count": 18,
   "metadata": {},
   "outputs": [],
   "source": [
    "# gradient operation\n",
    "x = cv2.Sobel(img4,cv2.CV_32F,1,0)\n",
    "y = cv2.Sobel(img4,cv2.CV_32F,0,1)\n",
    " \n",
    "absX = cv2.convertScaleAbs(x)\n",
    "absY = cv2.convertScaleAbs(y)\n",
    " \n",
    "dst = cv2.addWeighted(absX,0.7,absY,0.3,0)\n",
    "# plt.imshow(dst,'gray')\n",
    "# plt.show()"
   ]
  },
  {
   "cell_type": "code",
   "execution_count": null,
   "metadata": {
    "scrolled": false
   },
   "outputs": [],
   "source": [
    "# watershed\n",
    "kernel = cv2.getStructuringElement(cv2.MORPH_RECT, (3, 3))\n",
    "mb = cv2.morphologyEx(dst, cv2.MORPH_OPEN, kernel, iterations=2)\n",
    "sure_bg = cv2.dilate(mb, kernel, iterations=3)\n",
    "# plt.imshow(sure_bg,'gray')\n",
    "# plt.show()\n",
    "\n",
    "# distance transform\n",
    "dist = cv2.distanceTransform(mb, cv2.DIST_L2, 3)\n",
    "dist_output = cv2.normalize(dist, 0, 1.0, cv2.NORM_MINMAX)\n",
    "# cv2.imshow(\"distance transform\", dist_output*70)\n",
    "# plt.imshow(dist_output*70,'gray')\n",
    "# plt.show()\n",
    " \n",
    "ret, surface = cv2.threshold(dist, dist.max()*0.3, 255, cv2.THRESH_BINARY)\n",
    "# cv2.imshow(\"find seed\", surface)\n",
    "\n",
    "surface_fg = np.uint8(surface)\n",
    "unknown = cv2.subtract(sure_bg, surface_fg)\n",
    "ret, markers = cv2.connectedComponents(surface_fg)\n",
    "\n",
    "markers = markers.astype(np.float32)\n",
    "ret, markers = cv2.threshold(markers, markers.max()*0.3, 255, cv2.THRESH_BINARY)\n",
    "\n",
    "img_f = cv2.subtract(surface, markers)"
   ]
  },
  {
   "cell_type": "code",
   "execution_count": 35,
   "metadata": {},
   "outputs": [
    {
     "data": {
      "image/png": "[encoded data removed]",
      "text/plain": [
       "<Figure size 432x288 with 1 Axes>"
      ]
     },
     "metadata": {
      "needs_background": "light"
     },
     "output_type": "display_data"
    }
   ],
   "source": [
    "img_optic = cv2.imread('se_od31.jpg')\n",
    "img_mask = cv2.imread(se_name)\n",
    "img_vessel = cv2.imread('se_vessel31.jpg')\n",
    "\n",
    "# set to gray\n",
    "img_optic = cv2.cvtColor(img_optic, cv2.COLOR_BGR2GRAY)\n",
    "img_mask = cv2.cvtColor(img_mask, cv2.COLOR_BGR2GRAY)\n",
    "img_vessel = cv2.cvtColor(img_vessel, cv2.COLOR_BGR2GRAY)\n",
    "\n",
    "# type transform\n",
    "surface = img_f.astype(np.uint8)\n",
    "\n",
    "\n",
    "\n",
    "# threshold vessel, subtract vessel\n",
    "ret, img_vessel = cv2.threshold(img_vessel, img_vessel.max()*0.3, 255, cv2.THRESH_BINARY)\n",
    "img_without_vessel = cv2.subtract(surface, img_vessel)\n",
    "\n",
    "# threshold img_without_vessel\n",
    "ret, img_without_vessel = cv2.threshold(img_without_vessel, 60, 255, cv2.THRESH_BINARY)\n",
    "\n",
    "# remove noise point\n",
    "img_without_vessel = cv2.blur(img_without_vessel,(15,15),0)\n",
    "\n",
    "# threshold optic disc, subtract optic disc\n",
    "ret, img_optic = cv2.threshold(img_optic, img_optic.max()*0.3, 255, cv2.THRESH_BINARY)\n",
    "img_without_vo = cv2.subtract(img_without_vessel, img_optic)\n",
    "\n",
    "# dilate retina mask\n",
    "kernel = np.ones((10,10),np.uint8)\n",
    "dilation = cv2.erode(mask_thresh,kernel,iterations = 5)\n",
    "# plt.imshow(dilation,'gray')\n",
    "# plt.show()\n",
    "\n",
    "# get the thick retina frame\n",
    "img_retinal = cv2.subtract(img_without_vo, dilation)\n",
    "# plt.imshow(img_retinal,'gray')\n",
    "# plt.show()\n",
    "\n",
    "# subtract retina frame, get the soft exudates with noise point\n",
    "img_soft_noise = cv2.subtract(img_without_vo, img_retinal)\n",
    "# plt.imshow(img_soft_noise,'gray')\n",
    "# plt.show()\n",
    "\n",
    "# subtract noise point(vessel boundary)\n",
    "img_final6 = cv2.subtract(mask_thresh, img_soft_noise)\n",
    "# plt.imshow(img_final6,'gray')\n",
    "# plt.show()\n",
    "img_presoft = cv2.subtract(img_soft_noise, img_final6)\n",
    "# plt.imshow(img_presoft,'gray')\n",
    "# plt.show()\n",
    "\n",
    "# opening operation to remove noise point\n",
    "kernel = np.ones((20,20),np.uint8)\n",
    "img_opening = cv2.morphologyEx(img_presoft, cv2.MORPH_OPEN, kernel)\n",
    "# plt.imshow(img_opening,'gray')\n",
    "# plt.show()\n",
    "\n",
    "# dilate img_final, filing soft exudate center\n",
    "kernel = np.ones((5,5),np.uint8)\n",
    "img_final = cv2.dilate(img_opening,kernel,iterations = 6)\n",
    "cv2.imwrite('se_img_final_31.jpg', img_final)\n",
    "plt.imshow(img_final,'gray')\n",
    "plt.show()"
   ]
  },
  {
   "cell_type": "code",
   "execution_count": 2,
   "metadata": {},
   "outputs": [],
   "source": [
    "mask = cv2.imread(se_name)\n",
    "result = cv2.imread('se_img_final_31.jpg')\n",
    "mask = cv2.cvtColor(mask, cv2.COLOR_BGR2GRAY)\n",
    "result = cv2.cvtColor(result, cv2.COLOR_BGR2GRAY)\n",
    "\n",
    "def evaluation(image, mask):\n",
    "    \n",
    "    zeros_list_img, one_list_img, zeros_list_mk, one_list_mk = [], [], [], []\n",
    "    \n",
    "    for i in range(0,image.shape[0]):\n",
    "        for j in range(0,image.shape[1]):\n",
    "            val_mk = mask[i][j]\n",
    "            val_img  = image[i][j]\n",
    "            if val_mk == 0:\n",
    "                zeros_list_mk.append((i,j))\n",
    "            else:\n",
    "                one_list_mk.append((i,j))\n",
    "            if val_img == 0:\n",
    "                zeros_list_img.append((i,j))\n",
    "            else:\n",
    "                one_list_img.append((i,j))\n",
    "    #print(len(one_list_img))\n",
    "    TP = len(set(one_list_img).intersection(set(one_list_mk)))\n",
    "    TN = len(set(zeros_list_img).intersection(set(zeros_list_mk)))\n",
    "    FP = len(set(one_list_img).intersection(set(zeros_list_mk)))\n",
    "    FN = len(set(zeros_list_img).intersection(set(one_list_mk)))\n",
    "    TPR = TP/(FN + TP)\n",
    "    TNR = TN/(TN + FP)\n",
    "    P = TP/(TP + FP)\n",
    "    R = TP/(TP + FN)\n",
    "    F = 2*(R*P/(R + P))\n",
    "    JSC = TP/(TP + FP + FN)\n",
    "    DSC = 2*(TP/(FP + 2*TP + FN))\n",
    "    return TPR, TNR, F, JSC, DSC"
   ]
  },
  {
   "cell_type": "code",
   "execution_count": 3,
   "metadata": {},
   "outputs": [
    {
     "name": "stdout",
     "output_type": "stream",
     "text": [
      "result:\n"
     ]
    },
    {
     "data": {
      "image/png": "[encoded data removed]",
      "text/plain": [
       "<matplotlib.figure.Figure at 0x1251bd780>"
      ]
     },
     "metadata": {},
     "output_type": "display_data"
    },
    {
     "name": "stdout",
     "output_type": "stream",
     "text": [
      "masks_Soft_Exudates:\n"
     ]
    },
    {
     "data": {
      "image/png": "[encoded data removed]",
      "text/plain": [
       "<matplotlib.figure.Figure at 0x10448efd0>"
      ]
     },
     "metadata": {},
     "output_type": "display_data"
    },
    {
     "name": "stdout",
     "output_type": "stream",
     "text": [
      "------------------------\n",
      "JSC = 0.21047908008464852\n"
     ]
    }
   ],
   "source": [
    "print('result:')\n",
    "plt.imshow(result,'gray')\n",
    "plt.show()\n",
    "\n",
    "print('masks_Soft_Exudates:')\n",
    "plt.imshow(mask,'gray')\n",
    "plt.show()\n",
    "\n",
    "print('------------------------')\n",
    "TPR, TNR, F, JSC, DSC = evaluation(mask, result)\n",
    "print('JSC = ', end = '')\n",
    "print(JSC)"
   ]
  },
  {
   "cell_type": "code",
   "execution_count": null,
   "metadata": {},
   "outputs": [],
   "source": []
  }
 ],
 "metadata": {
  "kernelspec": {
   "display_name": "Python 3",
   "language": "python",
   "name": "python3"
  },
  "language_info": {
   "codemirror_mode": {
    "name": "ipython",
    "version": 3
   },
   "file_extension": ".py",
   "mimetype": "text/x-python",
   "name": "python",
   "nbconvert_exporter": "python",
   "pygments_lexer": "ipython3",
   "version": "3.6.4"
  }
 },
 "nbformat": 4,
 "nbformat_minor": 2
}
